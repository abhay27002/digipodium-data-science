{
 "cells": [
  {
   "cell_type": "code",
   "execution_count": 1,
   "metadata": {},
   "outputs": [
    {
     "name": "stdout",
     "output_type": "stream",
     "text": [
      "a is less than b\n",
      "a is less than c\n",
      "b is less than c\n"
     ]
    }
   ],
   "source": [
    "a=5\n",
    "b=10\n",
    "c=15\n",
    "if a<b:\n",
    "    print(\"a is less than b\")\n",
    "if a<c:\n",
    "    print(\"a is less than c\")\n",
    "if b<a:\n",
    "    print(\"b is less than a\")\n",
    "if b<c:\n",
    "    print(\"b is less than c\")\n",
    "if c<a:\n",
    "    print(\"c is than a\")\n",
    "if c<b:\n",
    "    print(\"c is less than b\")\n",
    "    "
   ]
  },
  {
   "cell_type": "code",
   "execution_count": 6,
   "metadata": {},
   "outputs": [
    {
     "name": "stdout",
     "output_type": "stream",
     "text": [
      "a is less than b\n"
     ]
    }
   ],
   "source": [
    "a=5\n",
    "b=10\n",
    "c=15\n",
    "if a<b:\n",
    "    print(\"a is less than b\")\n",
    "elif a<c:\n",
    "    print(\"a is less than c\")\n",
    "elif b<a:\n",
    "    print(\"b is less than a\")\n",
    "elif b<c:\n",
    "    print(\"b is less than c\")\n",
    "elif c<a:\n",
    "    print(\"c is than a\")\n",
    "elif c<b:\n",
    "    print(\"c is less than b\")"
   ]
  },
  {
   "cell_type": "code",
   "execution_count": 9,
   "metadata": {},
   "outputs": [
    {
     "name": "stdout",
     "output_type": "stream",
     "text": [
      "a\n",
      "c\n",
      "a\n"
     ]
    }
   ],
   "source": [
    "a=20\n",
    "b=10\n",
    "c=15\n",
    "if a<b:\n",
    "    print(\"b\")\n",
    "if a<c:\n",
    "    print(\"c\")\n",
    "if b<a:\n",
    "    print(\"a\")\n",
    "if b<c:\n",
    "    print(\"c\")\n",
    "if c<a:\n",
    "    print(\"a\")\n",
    "if c<b:\n",
    "    print(\"c\")"
   ]
  },
  {
   "cell_type": "code",
   "execution_count": 10,
   "metadata": {},
   "outputs": [
    {
     "name": "stdout",
     "output_type": "stream",
     "text": [
      "a\n"
     ]
    }
   ],
   "source": [
    "a=10\n",
    "b=15\n",
    "if a<b:\n",
    "    print(\"a\")\n",
    "else:\n",
    "    print(\"b\")\n",
    "    \n"
   ]
  },
  {
   "cell_type": "code",
   "execution_count": 15,
   "metadata": {},
   "outputs": [
    {
     "name": "stdout",
     "output_type": "stream",
     "text": [
      "odd\n"
     ]
    }
   ],
   "source": [
    "a=21\n",
    "if a%2==0:\n",
    "    print(\"even\")\n",
    "else:\n",
    "    print(\"odd\")\n"
   ]
  },
  {
   "cell_type": "code",
   "execution_count": 17,
   "metadata": {},
   "outputs": [
    {
     "name": "stdout",
     "output_type": "stream",
     "text": [
      "even\n"
     ]
    }
   ],
   "source": [
    "a=int(input(\"enter a no: \"))\n",
    "if a%2==0:\n",
    "    print(\"even\")\n",
    "else:\n",
    "    print(\"odd\")\n",
    "    "
   ]
  },
  {
   "cell_type": "code",
   "execution_count": 18,
   "metadata": {},
   "outputs": [
    {
     "name": "stdout",
     "output_type": "stream",
     "text": [
      "even\n"
     ]
    }
   ],
   "source": [
    "a=int(input(\"enter a no: \"))\n",
    "if a>0:\n",
    "    print(\"even\")\n",
    "else:\n",
    "    print(\"odd\")"
   ]
  },
  {
   "cell_type": "code",
   "execution_count": 48,
   "metadata": {},
   "outputs": [
    {
     "name": "stdout",
     "output_type": "stream",
     "text": [
      "success👍\n"
     ]
    }
   ],
   "source": [
    "username=input(\"enter your username: \")\n",
    "email=input(\"enter your email: \")\n",
    "pwd=input(\"enter your password:\")\n",
    "pwd2=input(\"enter your password again: \")\n",
    "if len(username)>=4 and len(username)<=15:\n",
    "    if '@' in email and email.islower() and len(email)>=10:\n",
    "        if len(pwd)>=6 and pwd!=username:\n",
    "            if pwd==pwd2:\n",
    "                print(\"success👍\")\n",
    "            else:\n",
    "                print(\"password doesn't match\")\n",
    "        else:\n",
    "         print(\"password is invalid\")\n",
    "    else:\n",
    "        print(\"Email is invalid\")\n",
    "else:\n",
    "    print(\"Username is invalid\")"
   ]
  },
  {
   "cell_type": "code",
   "execution_count": 56,
   "metadata": {},
   "outputs": [
    {
     "name": "stdout",
     "output_type": "stream",
     "text": [
      "{user} is eligible for vote\n"
     ]
    }
   ],
   "source": [
    "user=input(\"enter user name: \")\n",
    "age=int(input(\"age: \"))\n",
    "if age>=18:\n",
    "        print(\"{user} is eligible for vote\")\n",
    "else:\n",
    "        print(\"{user} is not eligible for vote\")"
   ]
  },
  {
   "cell_type": "code",
   "execution_count": 60,
   "metadata": {},
   "outputs": [],
   "source": [
    "side1=int(input(\"enter side 1: \"))\n",
    "side2=int(input(\"enter side 2: \"))\n",
    "side3=int(input(\"enetr side 3: \"))\n",
    "if side1==side2==side3:\n",
    "    print(\"equilateral\")\n",
    "elif side1==side2 or side2==side3 or side3==side1:\n",
    "    print(\"isosceles triangle\")"
   ]
  },
  {
   "cell_type": "code",
   "execution_count": null,
   "metadata": {},
   "outputs": [],
   "source": []
  }
 ],
 "metadata": {
  "kernelspec": {
   "display_name": "base",
   "language": "python",
   "name": "python3"
  },
  "language_info": {
   "codemirror_mode": {
    "name": "ipython",
    "version": 3
   },
   "file_extension": ".py",
   "mimetype": "text/x-python",
   "name": "python",
   "nbconvert_exporter": "python",
   "pygments_lexer": "ipython3",
   "version": "3.10.10"
  },
  "orig_nbformat": 4
 },
 "nbformat": 4,
 "nbformat_minor": 2
}
