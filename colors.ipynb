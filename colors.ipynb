{
 "cells": [
  {
   "cell_type": "code",
   "execution_count": 5,
   "metadata": {},
   "outputs": [
    {
     "name": "stdout",
     "output_type": "stream",
     "text": [
      "0 red\n",
      "1 green\n",
      "2 blue\n",
      "3 yellow\n"
     ]
    }
   ],
   "source": [
    "colors =['red','green','blue','yellow']\n",
    "for i,j in enumerate(colors):\n",
    "    print(i,j)\n"
   ]
  },
  {
   "cell_type": "code",
   "execution_count": 6,
   "metadata": {},
   "outputs": [
    {
     "name": "stdout",
     "output_type": "stream",
     "text": [
      "🔥red\n",
      "❌ green\n",
      "🔥blue\n",
      "❌ yellow\n"
     ]
    }
   ],
   "source": [
    "for index,value in enumerate(colors):\n",
    "    if index % 2 == 0:\n",
    "        print(f\"🔥{value}\")\n",
    "    else:\n",
    "        print(f'❌ {value}')"
   ]
  },
  {
   "cell_type": "code",
   "execution_count": 7,
   "metadata": {},
   "outputs": [
    {
     "name": "stdout",
     "output_type": "stream",
     "text": [
      "elex got 56 in hindi\n",
      "aman got 78 in hindi\n",
      "sonu got 90 in hindi\n",
      "ayush got 45 in hindi\n"
     ]
    }
   ],
   "source": [
    "name =['elex','aman','sonu','ayush']\n",
    "hindi =[56,78,90,45]\n",
    "english =[56,78,92,53]\n",
    "for n,i in zip(name,hindi):\n",
    "    print(f'{n} got {i} in hindi')"
   ]
  },
  {
   "cell_type": "code",
   "execution_count": 9,
   "metadata": {},
   "outputs": [
    {
     "name": "stdout",
     "output_type": "stream",
     "text": [
      "elex got 56 in english\n",
      "aman got 78 in english\n",
      "sonu got 90 in english\n",
      "ayush got 45 in english\n"
     ]
    }
   ],
   "source": [
    "name =['elex','aman','sonu','ayush']\n",
    "hindi =[56,78,90,45]\n",
    "english =[56,78,92,53]\n",
    "for n,i,j in zip(name,hindi,english):\n",
    "    print(f'{n} got {i} in english')"
   ]
  },
  {
   "cell_type": "code",
   "execution_count": 15,
   "metadata": {},
   "outputs": [
    {
     "name": "stdout",
     "output_type": "stream",
     "text": [
      "elex hindi= 56,english=56,total=112\n",
      "aman hindi= 78,english=78,total=156\n",
      "sonu hindi= 90,english=92,total=182\n",
      "ayush hindi= 45,english=53,total=98\n"
     ]
    }
   ],
   "source": [
    "name =['elex','aman','sonu','ayush']\n",
    "hindi =[56,78,90,45]\n",
    "english =[56,78,92,53]\n",
    "for n,i,j in zip(name,hindi,english):\n",
    "    print(f'{n} hindi= {i},english={j},total={i+j}')"
   ]
  },
  {
   "cell_type": "code",
   "execution_count": 14,
   "metadata": {},
   "outputs": [
    {
     "name": "stdout",
     "output_type": "stream",
     "text": [
      "elex      hindi= 56 | english=56 | total=112\n",
      "aman      hindi= 78 | english=78 | total=156\n",
      "sonu      hindi= 90 | english=92 | total=182\n",
      "ayush     hindi= 45 | english=53 | total=98\n"
     ]
    }
   ],
   "source": [
    "name =['elex','aman','sonu','ayush']\n",
    "hindi =[56,78,90,45]\n",
    "english =[56,78,92,53]\n",
    "for n,i,j in zip(name,hindi,english):\n",
    "    print(f'{n:<10}hindi= {i} | english={j} | total={i+j}')"
   ]
  },
  {
   "cell_type": "code",
   "execution_count": null,
   "metadata": {},
   "outputs": [],
   "source": []
  }
 ],
 "metadata": {
  "kernelspec": {
   "display_name": "base",
   "language": "python",
   "name": "python3"
  },
  "language_info": {
   "codemirror_mode": {
    "name": "ipython",
    "version": 3
   },
   "file_extension": ".py",
   "mimetype": "text/x-python",
   "name": "python",
   "nbconvert_exporter": "python",
   "pygments_lexer": "ipython3",
   "version": "3.10.10"
  },
  "orig_nbformat": 4
 },
 "nbformat": 4,
 "nbformat_minor": 2
}
