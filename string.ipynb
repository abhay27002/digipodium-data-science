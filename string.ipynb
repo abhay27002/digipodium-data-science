{
 "cells": [
  {
   "cell_type": "code",
   "execution_count": 1,
   "metadata": {},
   "outputs": [
    {
     "data": {
      "text/plain": [
       "['this', 'is', 'an', 'example,where', 'we', 'are', 'using', 'some', 'words']"
      ]
     },
     "execution_count": 1,
     "metadata": {},
     "output_type": "execute_result"
    }
   ],
   "source": [
    "message='this is an example,where we are using some words'"
   ]
  },
  {
   "cell_type": "code",
   "execution_count": 2,
   "metadata": {},
   "outputs": [
    {
     "data": {
      "text/plain": [
       "['this is an example', 'where we are using some words']"
      ]
     },
     "execution_count": 2,
     "metadata": {},
     "output_type": "execute_result"
    }
   ],
   "source": [
    "message.split(',')"
   ]
  },
  {
   "cell_type": "code",
   "execution_count": 9,
   "metadata": {},
   "outputs": [
    {
     "data": {
      "text/plain": [
       "['this', 'is', 'an', 'example,where', 'we', 'are', 'using', 'some', 'words']"
      ]
     },
     "execution_count": 9,
     "metadata": {},
     "output_type": "execute_result"
    }
   ],
   "source": [
    "message.split( )"
   ]
  },
  {
   "cell_type": "code",
   "execution_count": 5,
   "metadata": {},
   "outputs": [
    {
     "data": {
      "text/plain": [
       "['this is an example,where we are using some words']"
      ]
     },
     "execution_count": 5,
     "metadata": {},
     "output_type": "execute_result"
    }
   ],
   "source": [
    "message.split(',' ',')"
   ]
  },
  {
   "cell_type": "code",
   "execution_count": 6,
   "metadata": {},
   "outputs": [
    {
     "data": {
      "text/plain": [
       "['', ' is an example,where we are using some words']"
      ]
     },
     "execution_count": 6,
     "metadata": {},
     "output_type": "execute_result"
    }
   ],
   "source": [
    "message.split('this')"
   ]
  },
  {
   "cell_type": "code",
   "execution_count": 7,
   "metadata": {},
   "outputs": [
    {
     "name": "stdout",
     "output_type": "stream",
     "text": [
      "['this', 'is', 'an', 'example,where', 'we', 'are', 'using', 'some', 'words']\n"
     ]
    }
   ],
   "source": [
    "words = message.split()\n",
    "print(words)"
   ]
  },
  {
   "cell_type": "code",
   "execution_count": 8,
   "metadata": {},
   "outputs": [
    {
     "name": "stdout",
     "output_type": "stream",
     "text": [
      "this\n",
      "is\n",
      "an\n",
      "example,where\n",
      "we\n",
      "are\n",
      "using\n",
      "some\n",
      "words\n"
     ]
    }
   ],
   "source": [
    "words = message.split()\n",
    "for w in words:\n",
    "    print(w)"
   ]
  },
  {
   "cell_type": "code",
   "execution_count": 12,
   "metadata": {},
   "outputs": [
    {
     "data": {
      "text/plain": [
       "'this__🔥is__🔥an__🔥example,where__🔥we__🔥are__🔥using__🔥some__🔥words'"
      ]
     },
     "execution_count": 12,
     "metadata": {},
     "output_type": "execute_result"
    }
   ],
   "source": [
    "\"__🔥\".join(words)"
   ]
  },
  {
   "cell_type": "code",
   "execution_count": 16,
   "metadata": {},
   "outputs": [
    {
     "name": "stdout",
     "output_type": "stream",
     "text": [
      "19\n",
      "25\n",
      "15\n",
      "-1\n",
      "8\n",
      "13\n"
     ]
    }
   ],
   "source": [
    "print(message.find('where'))\n",
    "print(message.find('we'))\n",
    "print(message.find('ple'))\n",
    "print(message.find('z'))\n",
    "print(message.find('a'))\n",
    "print(message.find('a', 9))"
   ]
  },
  {
   "cell_type": "code",
   "execution_count": 18,
   "metadata": {},
   "outputs": [
    {
     "data": {
      "text/plain": [
       "'this is an ixampli,whiri wi ari using somi words'"
      ]
     },
     "execution_count": 18,
     "metadata": {},
     "output_type": "execute_result"
    }
   ],
   "source": [
    "message.replace('e','i')"
   ]
  },
  {
   "cell_type": "code",
   "execution_count": 19,
   "metadata": {},
   "outputs": [
    {
     "data": {
      "text/plain": [
       "'this is a story,where we are using some words'"
      ]
     },
     "execution_count": 19,
     "metadata": {},
     "output_type": "execute_result"
    }
   ],
   "source": [
    "message.replace('an example','a story')"
   ]
  },
  {
   "cell_type": "code",
   "execution_count": 20,
   "metadata": {},
   "outputs": [
    {
     "data": {
      "text/plain": [
       "'this is a story,where we are using some sentences'"
      ]
     },
     "execution_count": 20,
     "metadata": {},
     "output_type": "execute_result"
    }
   ],
   "source": [
    "message.replace('an example','a story').replace('words','sentences')"
   ]
  },
  {
   "cell_type": "code",
   "execution_count": 22,
   "metadata": {},
   "outputs": [
    {
     "name": "stdout",
     "output_type": "stream",
     "text": [
      "this is a story,where we are using some words\n"
     ]
    }
   ],
   "source": [
    "message=message.replace('an example','a story')\n",
    "print(message)"
   ]
  },
  {
   "cell_type": "code",
   "execution_count": 25,
   "metadata": {},
   "outputs": [
    {
     "data": {
      "text/plain": [
       "'this is a story,whr w ar using som words'"
      ]
     },
     "execution_count": 25,
     "metadata": {},
     "output_type": "execute_result"
    }
   ],
   "source": [
    "message.replace('e','',5)"
   ]
  },
  {
   "cell_type": "code",
   "execution_count": 26,
   "metadata": {},
   "outputs": [],
   "source": [
    "poem='johnny johnny yes papa,eating sugar no papa'"
   ]
  },
  {
   "cell_type": "code",
   "execution_count": 30,
   "metadata": {},
   "outputs": [
    {
     "data": {
      "text/plain": [
       "'alex alex yes papa,eating sugar no papa'"
      ]
     },
     "execution_count": 30,
     "metadata": {},
     "output_type": "execute_result"
    }
   ],
   "source": [
    "poem.replace('johnny','alex',2)"
   ]
  },
  {
   "cell_type": "code",
   "execution_count": 34,
   "metadata": {},
   "outputs": [],
   "source": [
    "message='this is an example where another example is used to show an example'"
   ]
  },
  {
   "cell_type": "code",
   "execution_count": 35,
   "metadata": {},
   "outputs": [
    {
     "data": {
      "text/plain": [
       "3"
      ]
     },
     "execution_count": 35,
     "metadata": {},
     "output_type": "execute_result"
    }
   ],
   "source": [
    "message.count('example')"
   ]
  },
  {
   "cell_type": "code",
   "execution_count": 36,
   "metadata": {},
   "outputs": [
    {
     "name": "stdout",
     "output_type": "stream",
     "text": [
      "example is used 3 times\n"
     ]
    }
   ],
   "source": [
    "ce = message.count('example')\n",
    "print(f'example is used {ce} times')"
   ]
  },
  {
   "cell_type": "code",
   "execution_count": 38,
   "metadata": {},
   "outputs": [
    {
     "name": "stdout",
     "output_type": "stream",
     "text": [
      "to move to newline '/n' is used.\n"
     ]
    }
   ],
   "source": [
    "message=r\"to move to newline '/n' is used.\"#raw string\n",
    "print(message)"
   ]
  },
  {
   "cell_type": "code",
   "execution_count": 40,
   "metadata": {},
   "outputs": [
    {
     "name": "stdout",
     "output_type": "stream",
     "text": [
      "to move to newline '//n' is used.\n"
     ]
    }
   ],
   "source": [
    "message=\"to move to newline '//n' is used.\"\n",
    "print(message)"
   ]
  },
  {
   "cell_type": "code",
   "execution_count": 42,
   "metadata": {},
   "outputs": [
    {
     "name": "stdout",
     "output_type": "stream",
     "text": [
      "   this is not a good string   \n"
     ]
    }
   ],
   "source": [
    "text = '   this is not a good string   '\n",
    "print(text)"
   ]
  },
  {
   "cell_type": "code",
   "execution_count": 1,
   "metadata": {},
   "outputs": [],
   "source": [
    "unip = input('enter a string')\n",
    "for char in unip:\n",
    "    if char.isupper() :\n",
    "        print('found')\n",
    "        break\n"
   ]
  },
  {
   "cell_type": "code",
   "execution_count": 3,
   "metadata": {},
   "outputs": [
    {
     "name": "stdout",
     "output_type": "stream",
     "text": [
      "this is me\n",
      "this is me\n",
      "this is me\n",
      "this is me\n",
      "this is me\n",
      "this is me\n",
      "this is me\n",
      "this is me\n",
      "this is me\n",
      "this is me\n",
      "this is me\n",
      "this is me\n",
      "this is me\n",
      "this is me\n",
      "this is me\n",
      "this is me\n",
      "this is me\n",
      "this is me\n",
      "this is me\n",
      "this is me\n",
      "this is me\n",
      "this is me\n",
      "this is me\n",
      "this is me\n",
      "this is me\n",
      "this is me\n",
      "this is me\n",
      "this is me\n",
      "this is me\n",
      "this is me\n",
      "this is me\n",
      "this is me\n"
     ]
    }
   ],
   "source": [
    "from string import punctuation\n",
    "text = input ('enter a string:')\n",
    "for char in punctuation:\n",
    "    text = text.replace(char, '')\n",
    "    print(text)"
   ]
  },
  {
   "cell_type": "code",
   "execution_count": 4,
   "metadata": {},
   "outputs": [
    {
     "name": "stdout",
     "output_type": "stream",
     "text": [
      "['joe', ' david', ' mark', ' tom', ' charis', ' robert']\n"
     ]
    }
   ],
   "source": [
    "names= 'joe, david, mark, tom, charis, robert'\n",
    "nameslist=names.split(',')\n",
    "print(nameslist)"
   ]
  },
  {
   "cell_type": "code",
   "execution_count": 5,
   "metadata": {},
   "outputs": [
    {
     "name": "stdout",
     "output_type": "stream",
     "text": [
      "thisaye isaye someaye textaye\n"
     ]
    }
   ],
   "source": [
    "text= 'this is some text'\n",
    "result = \" \".join([word+'aye' for word in text.split()])\n",
    "print(result)"
   ]
  },
  {
   "cell_type": "code",
   "execution_count": 8,
   "metadata": {},
   "outputs": [
    {
     "name": "stdout",
     "output_type": "stream",
     "text": [
      "['i', 'm', 'a', 'good', 'boy', 'and', 'aman', 'is', 'not', 'a', 'good', 'boy']\n",
      "[1, 1, 1, 4, 3, 3, 4, 2, 3, 1, 4, 3]\n",
      "average word length:  2.5\n"
     ]
    }
   ],
   "source": [
    "message= 'i m a good boy and aman is not a good boy'\n",
    "words= message.split()\n",
    "print(words)\n",
    "length = [len(word) for word in words]\n",
    "print(length)\n",
    "print('average word length: ',sum(length)/len(length))"
   ]
  },
  {
   "cell_type": "code",
   "execution_count": null,
   "metadata": {},
   "outputs": [],
   "source": []
  }
 ],
 "metadata": {
  "kernelspec": {
   "display_name": "base",
   "language": "python",
   "name": "python3"
  },
  "language_info": {
   "codemirror_mode": {
    "name": "ipython",
    "version": 3
   },
   "file_extension": ".py",
   "mimetype": "text/x-python",
   "name": "python",
   "nbconvert_exporter": "python",
   "pygments_lexer": "ipython3",
   "version": "3.10.10"
  },
  "orig_nbformat": 4
 },
 "nbformat": 4,
 "nbformat_minor": 2
}
