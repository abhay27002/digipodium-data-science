{
 "cells": [
  {
   "cell_type": "code",
   "execution_count": 15,
   "metadata": {},
   "outputs": [],
   "source": [
    "from dputils.scrape import Tag, Scraper"
   ]
  },
  {
   "cell_type": "code",
   "execution_count": 16,
   "metadata": {},
   "outputs": [],
   "source": [
    "url='https://timesofindia.indiatimes.com/news'\n",
    "scr= Scraper(url)\n"
   ]
  },
  {
   "cell_type": "code",
   "execution_count": 21,
   "metadata": {},
   "outputs": [],
   "source": [
    "url='https://www.flipkart.com/search?q=laptops'"
   ]
  },
  {
   "cell_type": "code",
   "execution_count": 25,
   "metadata": {},
   "outputs": [
    {
     "data": {
      "text/plain": [
       "[{'title': 'HP Victus Gaming Ryzen 5 Hexa Core 5600H - (8 GB/512 GB SSD/Windows 11 Home/4 GB Graphics/NVIDIA GeFor...',\n",
       "  'price': '₹52,990',\n",
       "  'num_reviews': '63 Ratings\\xa0&\\xa04 Reviews'},\n",
       " {'title': 'HP OMEN Core i5 - (16 GB/512 GB SSD/Windows 11 Home/6 GB Graphics/NVIDIA GeForce RTX 4050) 16-wd0880TX...',\n",
       "  'price': '₹1,04,990',\n",
       "  'num_reviews': None},\n",
       " {'title': 'ASUS Vivobook 15 Core i3 11th Gen - (8 GB/512 GB SSD/Windows 11 Home) X515EA-EJ322WS | X515EA-EJ328WS ...',\n",
       "  'price': '₹34,990',\n",
       "  'num_reviews': '3,204 Ratings\\xa0&\\xa0291 Reviews'},\n",
       " {'title': 'HP 15s (2023) Ryzen 3 Dual Core 3250U - (8 GB/512 GB SSD/Windows 11 Home) 15s- eq1580AU Thin and Light...',\n",
       "  'price': '₹31,990',\n",
       "  'num_reviews': '1,628 Ratings\\xa0&\\xa0158 Reviews'},\n",
       " {'title': 'ASUS TUF Gaming A15 Ryzen 5 Hexa Core AMD R5-4600H - (8 GB/1 TB SSD/Windows 11 Home/4 GB Graphics/NVID...',\n",
       "  'price': '₹50,990',\n",
       "  'num_reviews': '707 Ratings\\xa0&\\xa072 Reviews'},\n",
       " {'title': 'realme Book (Slim) Core i3 11th Gen - (8 GB/256 GB SSD/Windows 10 Home) RMNB1001 Thin and Light Laptop',\n",
       "  'price': '₹32,990',\n",
       "  'num_reviews': '14,096 Ratings\\xa0&\\xa02,034 Reviews'},\n",
       " {'title': 'HP 15s (2023) Athlon Dual Core 3050U - (8 GB/512 GB SSD/Windows 11 Home) 15s-ey1509AU Thin and Light L...',\n",
       "  'price': '₹29,990',\n",
       "  'num_reviews': '1,403 Ratings\\xa0&\\xa0128 Reviews'},\n",
       " {'title': 'Primebook 4G Android Based MediaTek MT8788 - (4 GB/64 GB EMMC Storage/Prime OS) 4G Thin and Light Lapt...',\n",
       "  'price': '₹12,990',\n",
       "  'num_reviews': '1,078 Ratings\\xa0&\\xa0347 Reviews'},\n",
       " {'title': 'HP 247 G8 Athlon Dual Core - (8 GB/1 TB HDD/Windows 11 Home) 247 G8 Notebook Notebook',\n",
       "  'price': '₹22,290',\n",
       "  'num_reviews': '251 Ratings\\xa0&\\xa027 Reviews'},\n",
       " {'title': 'Lenovo V15 Ryzen 5 Hexa Core 5500U - (8 GB/512 GB SSD/Windows 11 Home) V15 G2 ALC Thin and Light Lapto...',\n",
       "  'price': '₹34,990',\n",
       "  'num_reviews': '100 Ratings\\xa0&\\xa015 Reviews'},\n",
       " {'title': 'HP 14s Intel Core i3 11th Gen - (8 GB/256 GB SSD/Windows 11 Home) 14s - dy2507TU Thin and Light Laptop',\n",
       "  'price': '₹34,990',\n",
       "  'num_reviews': '3,128 Ratings\\xa0&\\xa0267 Reviews'},\n",
       " {'title': 'HP Chromebook MediaTek Kompanio 500 - (4 GB/64 GB EMMC Storage/Chrome OS) 11a-na0004MU Chromebook',\n",
       "  'price': '₹16,990',\n",
       "  'num_reviews': '6,422 Ratings\\xa0&\\xa0717 Reviews'},\n",
       " {'title': 'HP 15s (2023) Intel Core i3 12th Gen - (8 GB/512 GB SSD/Windows 11 Home) 15s-fy5003TU Thin and Light L...',\n",
       "  'price': '₹39,990',\n",
       "  'num_reviews': '137 Ratings\\xa0&\\xa012 Reviews'},\n",
       " {'title': 'MSI Bravo 15 Ryzen 7 Octa Core 5800H - (8 GB/512 GB SSD/Windows 11 Home/4 GB Graphics/AMD Radeon RX650...',\n",
       "  'price': '₹55,990',\n",
       "  'num_reviews': '221 Ratings\\xa0&\\xa036 Reviews'},\n",
       " {'title': 'HP Ryzen 5 Hexa Core 5500U - (16 GB/512 GB SSD/Windows 11 Home) 15s- eq2182AU Thin and Light Laptop',\n",
       "  'price': '₹46,990',\n",
       "  'num_reviews': '746 Ratings\\xa0&\\xa079 Reviews'},\n",
       " {'title': 'ASUS Vivobook 15 Core i5 11th Gen - (8 GB/512 GB SSD/Windows 11 Home) X515EA-EJ522WS Thin and Light La...',\n",
       "  'price': '₹42,990',\n",
       "  'num_reviews': '1,853 Ratings\\xa0&\\xa0149 Reviews'},\n",
       " {'title': 'Primebook 4G Android Based MediaTek MT8788 - (4 GB/128 GB EMMC Storage/Prime OS) 4G Thin and Light Lap...',\n",
       "  'price': '₹13,990',\n",
       "  'num_reviews': '268 Ratings\\xa0&\\xa086 Reviews'},\n",
       " {'title': 'CHUWI Celeron Dual Core 10th Gen - (8 GB/256 GB SSD/Windows 10 Home) HeroBook Pro Laptop',\n",
       "  'price': '₹19,990',\n",
       "  'num_reviews': None},\n",
       " {'title': 'HP 15s (2023) Intel Core i5 11th Gen - (16 GB/512 GB SSD/Windows 11 Home) 15s-fr4001TU Thin and Light ...',\n",
       "  'price': '₹52,990',\n",
       "  'num_reviews': '763 Ratings\\xa0&\\xa051 Reviews'},\n",
       " {'title': 'DELL Inspiron Core i3 11th Gen - (8 GB/512 GB SSD/Windows 11 Home) Inspiron 3511 Thin and Light Laptop',\n",
       "  'price': '₹37,990',\n",
       "  'num_reviews': '616 Ratings\\xa0&\\xa098 Reviews'},\n",
       " {'title': 'HP Victus Core i5 12th Gen - (8 GB/512 GB SSD/Windows 11 Home/4 GB Graphics/NVIDIA GeForce GTX 1650/14...',\n",
       "  'price': '₹62,890',\n",
       "  'num_reviews': '879 Ratings\\xa0&\\xa067 Reviews'},\n",
       " {'title': 'HP Ryzen 5 Hexa Core 5500U - (8 GB/512 GB SSD/Windows 11 Home) 15s- eq2223AU Thin and Light Laptop',\n",
       "  'price': '₹40,990',\n",
       "  'num_reviews': '27 Ratings\\xa0&\\xa02 Reviews'},\n",
       " {'title': 'Lenovo Intel Celeron Dual Core - (8 GB/256 GB SSD/Windows 11 Home) 15IGL05 Laptop',\n",
       "  'price': '₹25,999',\n",
       "  'num_reviews': '1,557 Ratings\\xa0&\\xa0155 Reviews'},\n",
       " {'title': 'HP Intel Core i5 11th Gen - (8 GB/512 GB SSD/Windows 11 Home) 15s- fr4000TU Thin and Light Laptop',\n",
       "  'price': '₹49,990',\n",
       "  'num_reviews': '763 Ratings\\xa0&\\xa051 Reviews'},\n",
       " {'title': None, 'price': None, 'num_reviews': None},\n",
       " {'title': None, 'price': None, 'num_reviews': None}]"
      ]
     },
     "execution_count": 25,
     "metadata": {},
     "output_type": "execute_result"
    }
   ],
   "source": [
    "target=Tag(cls='_1YokD2 _3Mn1Gg')\n",
    "items=Tag(cls='_1AtVbE col-12-12')\n",
    "title=Tag(cls='_4rR01T')\n",
    "price=Tag(cls='_30jeq3 _1_WHN1')\n",
    "num_reviews=Tag('span',cls='_2_R_DZ')\n",
    "\n",
    "scr=Scraper(url)\n",
    "result=scr.get_all(target,items,title=title,price=price,num_reviews=num_reviews)\n",
    "result"
   ]
  },
  {
   "cell_type": "code",
   "execution_count": 30,
   "metadata": {},
   "outputs": [],
   "source": [
    "from sqlalchemy import create_engine\n",
    "from sqlalchemy.orm import declarative_base\n",
    "from sqlalchemy import Column,String,Integer\n",
    "from sqlalchemy.orm import sessionmaker"
   ]
  },
  {
   "cell_type": "code",
   "execution_count": 31,
   "metadata": {},
   "outputs": [],
   "source": [
    "base=declarative_base()\n",
    "class Product(base):\n",
    "    __tablename__='products'\n",
    "    id=Column(Integer, primary_key=True)\n",
    "    title=Column(String)\n",
    "    price=Column(String)\n",
    "    num_reviews=Column(String)\n",
    "\n",
    "db_url='sqlite:///scrapy.sqlite'\n",
    "engine=create_engine(db_url)\n",
    "base.metadata.create_all(engine)"
   ]
  },
  {
   "cell_type": "code",
   "execution_count": 34,
   "metadata": {},
   "outputs": [],
   "source": [
    "db=sessionmaker(bind=engine)()\n",
    "for entry in result:\n",
    "    p = Product(title=entry['title'],\n",
    "                price=entry['price'],\n",
    "                num_reviews=entry['num_reviews'])\n",
    "    db.add(p)\n",
    "db.commit()\n",
    "db.close()"
   ]
  },
  {
   "cell_type": "code",
   "execution_count": 35,
   "metadata": {},
   "outputs": [
    {
     "name": "stdout",
     "output_type": "stream",
     "text": [
      "HP Victus Gaming Ryzen 5 Hexa Core 5600H - (8 GB/512 GB SSD/Windows 11 Home/4 GB Graphics/NVIDIA GeFor...\n",
      "HP OMEN Core i5 - (16 GB/512 GB SSD/Windows 11 Home/6 GB Graphics/NVIDIA GeForce RTX 4050) 16-wd0880TX...\n",
      "ASUS Vivobook 15 Core i3 11th Gen - (8 GB/512 GB SSD/Windows 11 Home) X515EA-EJ322WS | X515EA-EJ328WS ...\n",
      "HP 15s (2023) Ryzen 3 Dual Core 3250U - (8 GB/512 GB SSD/Windows 11 Home) 15s- eq1580AU Thin and Light...\n",
      "ASUS TUF Gaming A15 Ryzen 5 Hexa Core AMD R5-4600H - (8 GB/1 TB SSD/Windows 11 Home/4 GB Graphics/NVID...\n",
      "realme Book (Slim) Core i3 11th Gen - (8 GB/256 GB SSD/Windows 10 Home) RMNB1001 Thin and Light Laptop\n",
      "HP 15s (2023) Athlon Dual Core 3050U - (8 GB/512 GB SSD/Windows 11 Home) 15s-ey1509AU Thin and Light L...\n",
      "Primebook 4G Android Based MediaTek MT8788 - (4 GB/64 GB EMMC Storage/Prime OS) 4G Thin and Light Lapt...\n",
      "HP 247 G8 Athlon Dual Core - (8 GB/1 TB HDD/Windows 11 Home) 247 G8 Notebook Notebook\n",
      "Lenovo V15 Ryzen 5 Hexa Core 5500U - (8 GB/512 GB SSD/Windows 11 Home) V15 G2 ALC Thin and Light Lapto...\n",
      "HP 14s Intel Core i3 11th Gen - (8 GB/256 GB SSD/Windows 11 Home) 14s - dy2507TU Thin and Light Laptop\n",
      "HP Chromebook MediaTek Kompanio 500 - (4 GB/64 GB EMMC Storage/Chrome OS) 11a-na0004MU Chromebook\n",
      "HP 15s (2023) Intel Core i3 12th Gen - (8 GB/512 GB SSD/Windows 11 Home) 15s-fy5003TU Thin and Light L...\n",
      "MSI Bravo 15 Ryzen 7 Octa Core 5800H - (8 GB/512 GB SSD/Windows 11 Home/4 GB Graphics/AMD Radeon RX650...\n",
      "HP Ryzen 5 Hexa Core 5500U - (16 GB/512 GB SSD/Windows 11 Home) 15s- eq2182AU Thin and Light Laptop\n",
      "ASUS Vivobook 15 Core i5 11th Gen - (8 GB/512 GB SSD/Windows 11 Home) X515EA-EJ522WS Thin and Light La...\n",
      "Primebook 4G Android Based MediaTek MT8788 - (4 GB/128 GB EMMC Storage/Prime OS) 4G Thin and Light Lap...\n",
      "CHUWI Celeron Dual Core 10th Gen - (8 GB/256 GB SSD/Windows 10 Home) HeroBook Pro Laptop\n",
      "HP 15s (2023) Intel Core i5 11th Gen - (16 GB/512 GB SSD/Windows 11 Home) 15s-fr4001TU Thin and Light ...\n",
      "DELL Inspiron Core i3 11th Gen - (8 GB/512 GB SSD/Windows 11 Home) Inspiron 3511 Thin and Light Laptop\n",
      "HP Victus Core i5 12th Gen - (8 GB/512 GB SSD/Windows 11 Home/4 GB Graphics/NVIDIA GeForce GTX 1650/14...\n",
      "HP Ryzen 5 Hexa Core 5500U - (8 GB/512 GB SSD/Windows 11 Home) 15s- eq2223AU Thin and Light Laptop\n",
      "Lenovo Intel Celeron Dual Core - (8 GB/256 GB SSD/Windows 11 Home) 15IGL05 Laptop\n",
      "HP Intel Core i5 11th Gen - (8 GB/512 GB SSD/Windows 11 Home) 15s- fr4000TU Thin and Light Laptop\n",
      "None\n",
      "None\n",
      "HP Victus Gaming Ryzen 5 Hexa Core 5600H - (8 GB/512 GB SSD/Windows 11 Home/4 GB Graphics/NVIDIA GeFor...\n",
      "HP OMEN Core i5 - (16 GB/512 GB SSD/Windows 11 Home/6 GB Graphics/NVIDIA GeForce RTX 4050) 16-wd0880TX...\n",
      "ASUS Vivobook 15 Core i3 11th Gen - (8 GB/512 GB SSD/Windows 11 Home) X515EA-EJ322WS | X515EA-EJ328WS ...\n",
      "HP 15s (2023) Ryzen 3 Dual Core 3250U - (8 GB/512 GB SSD/Windows 11 Home) 15s- eq1580AU Thin and Light...\n",
      "ASUS TUF Gaming A15 Ryzen 5 Hexa Core AMD R5-4600H - (8 GB/1 TB SSD/Windows 11 Home/4 GB Graphics/NVID...\n",
      "realme Book (Slim) Core i3 11th Gen - (8 GB/256 GB SSD/Windows 10 Home) RMNB1001 Thin and Light Laptop\n",
      "HP 15s (2023) Athlon Dual Core 3050U - (8 GB/512 GB SSD/Windows 11 Home) 15s-ey1509AU Thin and Light L...\n",
      "Primebook 4G Android Based MediaTek MT8788 - (4 GB/64 GB EMMC Storage/Prime OS) 4G Thin and Light Lapt...\n",
      "HP 247 G8 Athlon Dual Core - (8 GB/1 TB HDD/Windows 11 Home) 247 G8 Notebook Notebook\n",
      "Lenovo V15 Ryzen 5 Hexa Core 5500U - (8 GB/512 GB SSD/Windows 11 Home) V15 G2 ALC Thin and Light Lapto...\n",
      "HP 14s Intel Core i3 11th Gen - (8 GB/256 GB SSD/Windows 11 Home) 14s - dy2507TU Thin and Light Laptop\n",
      "HP Chromebook MediaTek Kompanio 500 - (4 GB/64 GB EMMC Storage/Chrome OS) 11a-na0004MU Chromebook\n",
      "HP 15s (2023) Intel Core i3 12th Gen - (8 GB/512 GB SSD/Windows 11 Home) 15s-fy5003TU Thin and Light L...\n",
      "MSI Bravo 15 Ryzen 7 Octa Core 5800H - (8 GB/512 GB SSD/Windows 11 Home/4 GB Graphics/AMD Radeon RX650...\n",
      "HP Ryzen 5 Hexa Core 5500U - (16 GB/512 GB SSD/Windows 11 Home) 15s- eq2182AU Thin and Light Laptop\n",
      "ASUS Vivobook 15 Core i5 11th Gen - (8 GB/512 GB SSD/Windows 11 Home) X515EA-EJ522WS Thin and Light La...\n",
      "Primebook 4G Android Based MediaTek MT8788 - (4 GB/128 GB EMMC Storage/Prime OS) 4G Thin and Light Lap...\n",
      "CHUWI Celeron Dual Core 10th Gen - (8 GB/256 GB SSD/Windows 10 Home) HeroBook Pro Laptop\n",
      "HP 15s (2023) Intel Core i5 11th Gen - (16 GB/512 GB SSD/Windows 11 Home) 15s-fr4001TU Thin and Light ...\n",
      "DELL Inspiron Core i3 11th Gen - (8 GB/512 GB SSD/Windows 11 Home) Inspiron 3511 Thin and Light Laptop\n",
      "HP Victus Core i5 12th Gen - (8 GB/512 GB SSD/Windows 11 Home/4 GB Graphics/NVIDIA GeForce GTX 1650/14...\n",
      "HP Ryzen 5 Hexa Core 5500U - (8 GB/512 GB SSD/Windows 11 Home) 15s- eq2223AU Thin and Light Laptop\n",
      "Lenovo Intel Celeron Dual Core - (8 GB/256 GB SSD/Windows 11 Home) 15IGL05 Laptop\n",
      "HP Intel Core i5 11th Gen - (8 GB/512 GB SSD/Windows 11 Home) 15s- fr4000TU Thin and Light Laptop\n",
      "None\n",
      "None\n",
      "HP Victus Gaming Ryzen 5 Hexa Core 5600H - (8 GB/512 GB SSD/Windows 11 Home/4 GB Graphics/NVIDIA GeFor...\n",
      "HP OMEN Core i5 - (16 GB/512 GB SSD/Windows 11 Home/6 GB Graphics/NVIDIA GeForce RTX 4050) 16-wd0880TX...\n",
      "ASUS Vivobook 15 Core i3 11th Gen - (8 GB/512 GB SSD/Windows 11 Home) X515EA-EJ322WS | X515EA-EJ328WS ...\n",
      "HP 15s (2023) Ryzen 3 Dual Core 3250U - (8 GB/512 GB SSD/Windows 11 Home) 15s- eq1580AU Thin and Light...\n",
      "ASUS TUF Gaming A15 Ryzen 5 Hexa Core AMD R5-4600H - (8 GB/1 TB SSD/Windows 11 Home/4 GB Graphics/NVID...\n",
      "realme Book (Slim) Core i3 11th Gen - (8 GB/256 GB SSD/Windows 10 Home) RMNB1001 Thin and Light Laptop\n",
      "HP 15s (2023) Athlon Dual Core 3050U - (8 GB/512 GB SSD/Windows 11 Home) 15s-ey1509AU Thin and Light L...\n",
      "Primebook 4G Android Based MediaTek MT8788 - (4 GB/64 GB EMMC Storage/Prime OS) 4G Thin and Light Lapt...\n",
      "HP 247 G8 Athlon Dual Core - (8 GB/1 TB HDD/Windows 11 Home) 247 G8 Notebook Notebook\n",
      "Lenovo V15 Ryzen 5 Hexa Core 5500U - (8 GB/512 GB SSD/Windows 11 Home) V15 G2 ALC Thin and Light Lapto...\n",
      "HP 14s Intel Core i3 11th Gen - (8 GB/256 GB SSD/Windows 11 Home) 14s - dy2507TU Thin and Light Laptop\n",
      "HP Chromebook MediaTek Kompanio 500 - (4 GB/64 GB EMMC Storage/Chrome OS) 11a-na0004MU Chromebook\n",
      "HP 15s (2023) Intel Core i3 12th Gen - (8 GB/512 GB SSD/Windows 11 Home) 15s-fy5003TU Thin and Light L...\n",
      "MSI Bravo 15 Ryzen 7 Octa Core 5800H - (8 GB/512 GB SSD/Windows 11 Home/4 GB Graphics/AMD Radeon RX650...\n",
      "HP Ryzen 5 Hexa Core 5500U - (16 GB/512 GB SSD/Windows 11 Home) 15s- eq2182AU Thin and Light Laptop\n",
      "ASUS Vivobook 15 Core i5 11th Gen - (8 GB/512 GB SSD/Windows 11 Home) X515EA-EJ522WS Thin and Light La...\n",
      "Primebook 4G Android Based MediaTek MT8788 - (4 GB/128 GB EMMC Storage/Prime OS) 4G Thin and Light Lap...\n",
      "CHUWI Celeron Dual Core 10th Gen - (8 GB/256 GB SSD/Windows 10 Home) HeroBook Pro Laptop\n",
      "HP 15s (2023) Intel Core i5 11th Gen - (16 GB/512 GB SSD/Windows 11 Home) 15s-fr4001TU Thin and Light ...\n",
      "DELL Inspiron Core i3 11th Gen - (8 GB/512 GB SSD/Windows 11 Home) Inspiron 3511 Thin and Light Laptop\n",
      "HP Victus Core i5 12th Gen - (8 GB/512 GB SSD/Windows 11 Home/4 GB Graphics/NVIDIA GeForce GTX 1650/14...\n",
      "HP Ryzen 5 Hexa Core 5500U - (8 GB/512 GB SSD/Windows 11 Home) 15s- eq2223AU Thin and Light Laptop\n",
      "Lenovo Intel Celeron Dual Core - (8 GB/256 GB SSD/Windows 11 Home) 15IGL05 Laptop\n",
      "HP Intel Core i5 11th Gen - (8 GB/512 GB SSD/Windows 11 Home) 15s- fr4000TU Thin and Light Laptop\n",
      "None\n",
      "None\n"
     ]
    },
    {
     "data": {
      "text/plain": [
       "<bound method Session.close of <sqlalchemy.orm.session.Session object at 0x0000020096F3B9D0>>"
      ]
     },
     "execution_count": 35,
     "metadata": {},
     "output_type": "execute_result"
    }
   ],
   "source": [
    "db=sessionmaker(bind=engine)()\n",
    "for row in db.query(Product).all():\n",
    "    print(row.title)\n",
    "db.close"
   ]
  },
  {
   "cell_type": "code",
   "execution_count": null,
   "metadata": {},
   "outputs": [],
   "source": []
  }
 ],
 "metadata": {
  "kernelspec": {
   "display_name": "base",
   "language": "python",
   "name": "python3"
  },
  "language_info": {
   "codemirror_mode": {
    "name": "ipython",
    "version": 3
   },
   "file_extension": ".py",
   "mimetype": "text/x-python",
   "name": "python",
   "nbconvert_exporter": "python",
   "pygments_lexer": "ipython3",
   "version": "3.10.10"
  },
  "orig_nbformat": 4
 },
 "nbformat": 4,
 "nbformat_minor": 2
}
