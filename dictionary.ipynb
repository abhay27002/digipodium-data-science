{
 "cells": [
  {
   "cell_type": "code",
   "execution_count": 3,
   "metadata": {},
   "outputs": [],
   "source": [
    "students = {\n",
    "    'abhay' : {'college':'npgc', 'type':'offline'},\n",
    "    'aman' : 'npgc',\n",
    "    'satyam' : 'npgc',\n",
    "    'sameer' : 'au',\n",
    "    'sumit' : 'iu',\n",
    "    'shoeb' : {\n",
    "        'college': 'iet',\n",
    "        'tpye' : 'online'\n",
    "    },\n",
    "    'kartik': {\n",
    "        'college':'hnbgu',\n",
    "        'type':'online'\n",
    "    }\n",
    "}"
   ]
  },
  {
   "cell_type": "code",
   "execution_count": 12,
   "metadata": {},
   "outputs": [],
   "source": [
    "from pprint import pp"
   ]
  },
  {
   "cell_type": "code",
   "execution_count": 11,
   "metadata": {},
   "outputs": [
    {
     "name": "stdout",
     "output_type": "stream",
     "text": [
      "{'abhay': {'college': 'npgc', 'type': 'offline'},\n",
      " 'aman': 'npgc',\n",
      " 'satyam': 'npgc',\n",
      " 'sameer': 'au',\n",
      " 'sumit': 'iu',\n",
      " 'shoeb': {'college': 'iet', 'tpye': 'online'},\n",
      " 'kartik': {'college': 'hnbgu', 'type': 'online'}}\n"
     ]
    }
   ],
   "source": [
    "pp(students)"
   ]
  },
  {
   "cell_type": "code",
   "execution_count": 13,
   "metadata": {},
   "outputs": [
    {
     "data": {
      "text/plain": [
       "'online'"
      ]
     },
     "execution_count": 13,
     "metadata": {},
     "output_type": "execute_result"
    }
   ],
   "source": [
    "students['kartik']['type']"
   ]
  },
  {
   "cell_type": "code",
   "execution_count": 14,
   "metadata": {},
   "outputs": [
    {
     "data": {
      "text/plain": [
       "{'college': 'npgc', 'type': 'offline'}"
      ]
     },
     "execution_count": 14,
     "metadata": {},
     "output_type": "execute_result"
    }
   ],
   "source": [
    "students['abhay']"
   ]
  },
  {
   "cell_type": "code",
   "execution_count": 17,
   "metadata": {},
   "outputs": [],
   "source": [
    "students['shubham'] ={\n",
    "    'college':'npgc',\n",
    "    'type':'online'\n",
    "}"
   ]
  },
  {
   "cell_type": "code",
   "execution_count": 19,
   "metadata": {},
   "outputs": [
    {
     "name": "stdout",
     "output_type": "stream",
     "text": [
      "{'abhay': {'college': 'npgc', 'type': 'offline'},\n",
      " 'aman': 'npgc',\n",
      " 'satyam': 'npgc',\n",
      " 'sameer': 'au',\n",
      " 'sumit': 'iu',\n",
      " 'shoeb': {'college': 'iet', 'tpye': 'online'},\n",
      " 'kartik': {'college': 'hnbgu', 'type': 'online'},\n",
      " 'shreya': {'college': 'npgc', 'type': 'online'},\n",
      " 'shubham': {'college': 'npgc', 'type': 'online'}}\n"
     ]
    }
   ],
   "source": [
    "pp(students)"
   ]
  },
  {
   "cell_type": "code",
   "execution_count": 21,
   "metadata": {},
   "outputs": [
    {
     "name": "stdout",
     "output_type": "stream",
     "text": [
      "{'abhay': {'college': 'npgc', 'type': 'flexi'},\n",
      " 'aman': 'npgc',\n",
      " 'satyam': 'npgc',\n",
      " 'sameer': 'au',\n",
      " 'sumit': 'iu',\n",
      " 'shoeb': {'college': 'iet', 'tpye': 'online'},\n",
      " 'kartik': {'college': 'hnbgu', 'type': 'online'},\n",
      " 'shreya': {'college': 'npgc', 'type': 'online'},\n",
      " 'shubham': {'college': 'npgc', 'type': 'online'}}\n"
     ]
    }
   ],
   "source": [
    "students['abhay']['type']='flexi'\n",
    "pp(students)"
   ]
  },
  {
   "cell_type": "code",
   "execution_count": 26,
   "metadata": {},
   "outputs": [
    {
     "data": {
      "text/plain": [
       "'npgc'"
      ]
     },
     "execution_count": 26,
     "metadata": {},
     "output_type": "execute_result"
    }
   ],
   "source": [
    "students.pop('satyam')"
   ]
  },
  {
   "cell_type": "code",
   "execution_count": 27,
   "metadata": {},
   "outputs": [
    {
     "name": "stdout",
     "output_type": "stream",
     "text": [
      "{'abhay': {'college': 'npgc', 'type': 'flexi'},\n",
      " 'sameer': 'au',\n",
      " 'sumit': 'iu',\n",
      " 'shoeb': {'college': 'iet', 'tpye': 'online'},\n",
      " 'kartik': {'college': 'hnbgu', 'type': 'online'},\n",
      " 'shreya': {'college': 'npgc', 'type': 'online'},\n",
      " 'shubham': {'college': 'npgc', 'type': 'online'}}\n"
     ]
    }
   ],
   "source": [
    "pp(students)"
   ]
  },
  {
   "cell_type": "code",
   "execution_count": 28,
   "metadata": {},
   "outputs": [],
   "source": [
    "report = {\n",
    "    'class10' : {\n",
    "        'rohan': {\n",
    "            'english': 90,\n",
    "            'maths': 95,\n",
    "            'physics' : 85,\n",
    "            'computer' : 89,\n",
    "        },\n",
    "        'mohit' : {\n",
    "            'english' : 89,\n",
    "            'physics' : 86,\n",
    "            'computer' :95,\n",
    "            'maths' : 96,\n",
    "         },\n",
    "         'aman' : {\n",
    "            'english' : 40,\n",
    "            'physics' : 52,\n",
    "            'computer' : 65,\n",
    "            'maths' : 40, \n",
    "         },\n",
    "         'shubham' : {\n",
    "             'english' : 20,\n",
    "            'physics' : 58,\n",
    "            'computer' : 25,\n",
    "            'maths' : 35,\n",
    "         },\n",
    "         'satyam' : {\n",
    "             'english' : 83,\n",
    "            'physics' : 88,\n",
    "            'computer' :97,\n",
    "            'maths' : 91,\n",
    "         },\n",
    "         'kartik' : {\n",
    "             'english' : 10,\n",
    "            'physics' : 5,\n",
    "            'computer' :22,\n",
    "            'maths' : 26,\n",
    "         },\n",
    "    }\n",
    "}"
   ]
  },
  {
   "cell_type": "code",
   "execution_count": 29,
   "metadata": {},
   "outputs": [
    {
     "name": "stdout",
     "output_type": "stream",
     "text": [
      "{'class10': {'rohan': {'english': 90,\n",
      "                       'maths': 95,\n",
      "                       'physics': 85,\n",
      "                       'computer': 89},\n",
      "             'mohit': {'english': 89,\n",
      "                       'physics': 86,\n",
      "                       'computer': 95,\n",
      "                       'maths': 96},\n",
      "             'aman': {'english': 40,\n",
      "                      'physics': 52,\n",
      "                      'computer': 65,\n",
      "                      'maths': 40},\n",
      "             'shubham': {'english': 20,\n",
      "                         'physics': 58,\n",
      "                         'computer': 25,\n",
      "                         'maths': 35},\n",
      "             'satyam': {'english': 83,\n",
      "                        'physics': 88,\n",
      "                        'computer': 97,\n",
      "                        'maths': 91},\n",
      "             'kartik': {'english': 10,\n",
      "                        'physics': 5,\n",
      "                        'computer': 22,\n",
      "                        'maths': 26}}}\n"
     ]
    }
   ],
   "source": [
    "pp(report)"
   ]
  },
  {
   "cell_type": "code",
   "execution_count": null,
   "metadata": {},
   "outputs": [],
   "source": []
  }
 ],
 "metadata": {
  "kernelspec": {
   "display_name": "base",
   "language": "python",
   "name": "python3"
  },
  "language_info": {
   "codemirror_mode": {
    "name": "ipython",
    "version": 3
   },
   "file_extension": ".py",
   "mimetype": "text/x-python",
   "name": "python",
   "nbconvert_exporter": "python",
   "pygments_lexer": "ipython3",
   "version": "3.10.10"
  },
  "orig_nbformat": 4
 },
 "nbformat": 4,
 "nbformat_minor": 2
}
