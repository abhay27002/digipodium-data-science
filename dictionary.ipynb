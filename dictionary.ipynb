{
 "cells": [
  {
   "cell_type": "code",
   "execution_count": 3,
   "metadata": {},
   "outputs": [],
   "source": [
    "students = {\n",
    "    'abhay' : {'college':'npgc', 'type':'offline'},\n",
    "    'aman' : 'npgc',\n",
    "    'satyam' : 'npgc',\n",
    "    'sameer' : 'au',\n",
    "    'sumit' : 'iu',\n",
    "    'shoeb' : {\n",
    "        'college': 'iet',\n",
    "        'tpye' : 'online'\n",
    "    },\n",
    "    'kartik': {\n",
    "        'college':'hnbgu',\n",
    "        'type':'online'\n",
    "    }\n",
    "}"
   ]
  },
  {
   "cell_type": "code",
   "execution_count": 12,
   "metadata": {},
   "outputs": [],
   "source": [
    "from pprint import pp"
   ]
  },
  {
   "cell_type": "code",
   "execution_count": 11,
   "metadata": {},
   "outputs": [
    {
     "name": "stdout",
     "output_type": "stream",
     "text": [
      "{'abhay': {'college': 'npgc', 'type': 'offline'},\n",
      " 'aman': 'npgc',\n",
      " 'satyam': 'npgc',\n",
      " 'sameer': 'au',\n",
      " 'sumit': 'iu',\n",
      " 'shoeb': {'college': 'iet', 'tpye': 'online'},\n",
      " 'kartik': {'college': 'hnbgu', 'type': 'online'}}\n"
     ]
    }
   ],
   "source": [
    "pp(students)"
   ]
  },
  {
   "cell_type": "code",
   "execution_count": 13,
   "metadata": {},
   "outputs": [
    {
     "data": {
      "text/plain": [
       "'online'"
      ]
     },
     "execution_count": 13,
     "metadata": {},
     "output_type": "execute_result"
    }
   ],
   "source": [
    "students['kartik']['type']"
   ]
  },
  {
   "cell_type": "code",
   "execution_count": 14,
   "metadata": {},
   "outputs": [
    {
     "data": {
      "text/plain": [
       "{'college': 'npgc', 'type': 'offline'}"
      ]
     },
     "execution_count": 14,
     "metadata": {},
     "output_type": "execute_result"
    }
   ],
   "source": [
    "students['abhay']"
   ]
  },
  {
   "cell_type": "code",
   "execution_count": 17,
   "metadata": {},
   "outputs": [],
   "source": [
    "students['shubham'] ={\n",
    "    'college':'npgc',\n",
    "    'type':'online'\n",
    "}"
   ]
  },
  {
   "cell_type": "code",
   "execution_count": 19,
   "metadata": {},
   "outputs": [
    {
     "name": "stdout",
     "output_type": "stream",
     "text": [
      "{'abhay': {'college': 'npgc', 'type': 'offline'},\n",
      " 'aman': 'npgc',\n",
      " 'satyam': 'npgc',\n",
      " 'sameer': 'au',\n",
      " 'sumit': 'iu',\n",
      " 'shoeb': {'college': 'iet', 'tpye': 'online'},\n",
      " 'kartik': {'college': 'hnbgu', 'type': 'online'},\n",
      " 'shreya': {'college': 'npgc', 'type': 'online'},\n",
      " 'shubham': {'college': 'npgc', 'type': 'online'}}\n"
     ]
    }
   ],
   "source": [
    "pp(students)"
   ]
  },
  {
   "cell_type": "code",
   "execution_count": 21,
   "metadata": {},
   "outputs": [
    {
     "name": "stdout",
     "output_type": "stream",
     "text": [
      "{'abhay': {'college': 'npgc', 'type': 'flexi'},\n",
      " 'aman': 'npgc',\n",
      " 'satyam': 'npgc',\n",
      " 'sameer': 'au',\n",
      " 'sumit': 'iu',\n",
      " 'shoeb': {'college': 'iet', 'tpye': 'online'},\n",
      " 'kartik': {'college': 'hnbgu', 'type': 'online'},\n",
      " 'shreya': {'college': 'npgc', 'type': 'online'},\n",
      " 'shubham': {'college': 'npgc', 'type': 'online'}}\n"
     ]
    }
   ],
   "source": [
    "students['abhay']['type']='flexi'\n",
    "pp(students)"
   ]
  },
  {
   "cell_type": "code",
   "execution_count": 26,
   "metadata": {},
   "outputs": [
    {
     "data": {
      "text/plain": [
       "'npgc'"
      ]
     },
     "execution_count": 26,
     "metadata": {},
     "output_type": "execute_result"
    }
   ],
   "source": [
    "students.pop('satyam')"
   ]
  },
  {
   "cell_type": "code",
   "execution_count": 27,
   "metadata": {},
   "outputs": [
    {
     "name": "stdout",
     "output_type": "stream",
     "text": [
      "{'abhay': {'college': 'npgc', 'type': 'flexi'},\n",
      " 'sameer': 'au',\n",
      " 'sumit': 'iu',\n",
      " 'shoeb': {'college': 'iet', 'tpye': 'online'},\n",
      " 'kartik': {'college': 'hnbgu', 'type': 'online'},\n",
      " 'shreya': {'college': 'npgc', 'type': 'online'},\n",
      " 'shubham': {'college': 'npgc', 'type': 'online'}}\n"
     ]
    }
   ],
   "source": [
    "pp(students)"
   ]
  },
  {
   "cell_type": "code",
   "execution_count": 4,
   "metadata": {},
   "outputs": [],
   "source": [
    "report = {\n",
    "    'class10' : {\n",
    "        'rohan': {\n",
    "            'english': 90,\n",
    "            'maths': 95,\n",
    "            'physics' : 85,\n",
    "            'computer' : 89,\n",
    "        },\n",
    "        'mohit' : {\n",
    "            'english' : 89,\n",
    "            'physics' : 86,\n",
    "            'computer' :95,\n",
    "            'maths' : 96,\n",
    "         },\n",
    "         'aman' : {\n",
    "            'english' : 40,\n",
    "            'physics' : 52,\n",
    "            'computer' : 65,\n",
    "            'maths' : 40, \n",
    "         },\n",
    "         'shubham' : {\n",
    "             'english' : 20,\n",
    "            'physics' : 58,\n",
    "            'computer' : 25,\n",
    "            'maths' : 35,\n",
    "         },\n",
    "         'satyam' : {\n",
    "             'english' : 83,\n",
    "            'physics' : 88,\n",
    "            'computer' :97,\n",
    "            'maths' : 91,\n",
    "         },\n",
    "         'kartik' : {\n",
    "             'english' : 10,\n",
    "            'physics' : 5,\n",
    "            'computer' :22,\n",
    "            'maths' : 26,\n",
    "         },\n",
    "    }\n",
    "}"
   ]
  },
  {
   "cell_type": "code",
   "execution_count": 3,
   "metadata": {},
   "outputs": [
    {
     "ename": "NameError",
     "evalue": "name 'pp' is not defined",
     "output_type": "error",
     "traceback": [
      "\u001b[1;31m---------------------------------------------------------------------------\u001b[0m",
      "\u001b[1;31mNameError\u001b[0m                                 Traceback (most recent call last)",
      "Cell \u001b[1;32mIn[3], line 1\u001b[0m\n\u001b[1;32m----> 1\u001b[0m pp(report)\n",
      "\u001b[1;31mNameError\u001b[0m: name 'pp' is not defined"
     ]
    }
   ],
   "source": [
    "pp(report)"
   ]
  },
  {
   "cell_type": "code",
   "execution_count": 2,
   "metadata": {},
   "outputs": [
    {
     "ename": "NameError",
     "evalue": "name 'report' is not defined",
     "output_type": "error",
     "traceback": [
      "\u001b[1;31m---------------------------------------------------------------------------\u001b[0m",
      "\u001b[1;31mNameError\u001b[0m                                 Traceback (most recent call last)",
      "Cell \u001b[1;32mIn[2], line 1\u001b[0m\n\u001b[1;32m----> 1\u001b[0m \u001b[39mprint\u001b[39m(report\u001b[39m.\u001b[39mkeys())\n",
      "\u001b[1;31mNameError\u001b[0m: name 'report' is not defined"
     ]
    }
   ],
   "source": []
  },
  {
   "cell_type": "code",
   "execution_count": 5,
   "metadata": {},
   "outputs": [],
   "source": [
    "report = {\n",
    "    'class10' : {\n",
    "        'rohan': {\n",
    "            'english': 90,\n",
    "            'maths': 95,\n",
    "            'physics' : 85,\n",
    "            'computer' : 89,\n",
    "        },\n",
    "        'mohit' : {\n",
    "            'english' : 89,\n",
    "            'physics' : 86,\n",
    "            'computer' :95,\n",
    "            'maths' : 96,\n",
    "         },\n",
    "         'aman' : {\n",
    "            'english' : 40,\n",
    "            'physics' : 52,\n",
    "            'computer' : 65,\n",
    "            'maths' : 40, \n",
    "         },\n",
    "         'shubham' : {\n",
    "             'english' : 20,\n",
    "            'physics' : 58,\n",
    "            'computer' : 25,\n",
    "            'maths' : 35,\n",
    "         },\n",
    "         'satyam' : {\n",
    "             'english' : 83,\n",
    "            'physics' : 88,\n",
    "            'computer' :97,\n",
    "            'maths' : 91,\n",
    "         },\n",
    "         'kartik' : {\n",
    "             'english' : 10,\n",
    "            'physics' : 5,\n",
    "            'computer' :22,\n",
    "            'maths' : 26,\n",
    "         },\n",
    "    }\n",
    "}"
   ]
  },
  {
   "cell_type": "code",
   "execution_count": 7,
   "metadata": {},
   "outputs": [
    {
     "name": "stdout",
     "output_type": "stream",
     "text": [
      "dict_keys(['class10'])\n"
     ]
    }
   ],
   "source": [
    "print(report.keys())"
   ]
  },
  {
   "cell_type": "code",
   "execution_count": 8,
   "metadata": {},
   "outputs": [
    {
     "data": {
      "text/plain": [
       "dict_keys(['rohan', 'mohit', 'aman', 'shubham', 'satyam', 'kartik'])"
      ]
     },
     "execution_count": 8,
     "metadata": {},
     "output_type": "execute_result"
    }
   ],
   "source": [
    "report['class10'].keys()"
   ]
  },
  {
   "cell_type": "code",
   "execution_count": 9,
   "metadata": {},
   "outputs": [
    {
     "data": {
      "text/plain": [
       "dict_keys(['english', 'physics', 'computer', 'maths'])"
      ]
     },
     "execution_count": 9,
     "metadata": {},
     "output_type": "execute_result"
    }
   ],
   "source": [
    "report['class10']['aman'].keys()"
   ]
  },
  {
   "cell_type": "code",
   "execution_count": 10,
   "metadata": {},
   "outputs": [
    {
     "data": {
      "text/plain": [
       "65"
      ]
     },
     "execution_count": 10,
     "metadata": {},
     "output_type": "execute_result"
    }
   ],
   "source": [
    "report['class10']['aman']['computer']"
   ]
  },
  {
   "cell_type": "code",
   "execution_count": 11,
   "metadata": {},
   "outputs": [
    {
     "data": {
      "text/plain": [
       "dict_values([{'rohan': {'english': 90, 'maths': 95, 'physics': 85, 'computer': 89}, 'mohit': {'english': 89, 'physics': 86, 'computer': 95, 'maths': 96}, 'aman': {'english': 40, 'physics': 52, 'computer': 65, 'maths': 40}, 'shubham': {'english': 20, 'physics': 58, 'computer': 25, 'maths': 35}, 'satyam': {'english': 83, 'physics': 88, 'computer': 97, 'maths': 91}, 'kartik': {'english': 10, 'physics': 5, 'computer': 22, 'maths': 26}}])"
      ]
     },
     "execution_count": 11,
     "metadata": {},
     "output_type": "execute_result"
    }
   ],
   "source": [
    "report.values()"
   ]
  },
  {
   "cell_type": "code",
   "execution_count": 14,
   "metadata": {},
   "outputs": [
    {
     "data": {
      "text/plain": [
       "dict_values([{'english': 90, 'maths': 95, 'physics': 85, 'computer': 89}, {'english': 89, 'physics': 86, 'computer': 95, 'maths': 96}, {'english': 40, 'physics': 52, 'computer': 65, 'maths': 40}, {'english': 20, 'physics': 58, 'computer': 25, 'maths': 35}, {'english': 83, 'physics': 88, 'computer': 97, 'maths': 91}, {'english': 10, 'physics': 5, 'computer': 22, 'maths': 26}])"
      ]
     },
     "execution_count": 14,
     "metadata": {},
     "output_type": "execute_result"
    }
   ],
   "source": [
    "report['class10'].values()"
   ]
  },
  {
   "cell_type": "code",
   "execution_count": 17,
   "metadata": {},
   "outputs": [
    {
     "data": {
      "text/plain": [
       "dict_values([10, 5, 22, 26])"
      ]
     },
     "execution_count": 17,
     "metadata": {},
     "output_type": "execute_result"
    }
   ],
   "source": [
    "report['class10']['kartik'].values()"
   ]
  },
  {
   "cell_type": "code",
   "execution_count": 18,
   "metadata": {},
   "outputs": [
    {
     "name": "stdout",
     "output_type": "stream",
     "text": [
      "dict_values([{'english': 90, 'maths': 95, 'physics': 85, 'computer': 89}, {'english': 89, 'physics': 86, 'computer': 95, 'maths': 96}, {'english': 40, 'physics': 52, 'computer': 65, 'maths': 40}, {'english': 20, 'physics': 58, 'computer': 25, 'maths': 35}, {'english': 83, 'physics': 88, 'computer': 97, 'maths': 91}, {'english': 10, 'physics': 5, 'computer': 22, 'maths': 26}])\n"
     ]
    }
   ],
   "source": [
    "print(report['class10'].values())"
   ]
  },
  {
   "cell_type": "code",
   "execution_count": 20,
   "metadata": {},
   "outputs": [],
   "source": [
    "movies = {\n",
    "    '3 idiots' : 'a story about 3 idiot frnds',\n",
    "    'lunchbox' : 'a story about lunchbox',\n",
    "    'dangal' : 'a story about dangal',\n",
    "    'pk' : 'a story about pk',\n",
    "    'taare zameen par' : 'a story about taare zameen par',\n",
    "}"
   ]
  },
  {
   "cell_type": "code",
   "execution_count": 21,
   "metadata": {},
   "outputs": [
    {
     "data": {
      "text/plain": [
       "dict_items([('3 idiots', 'a story about 3 idiot frnds'), ('lunchbox', 'a story about lunchbox'), ('dangal', 'a story about dangal'), ('pk', 'a story about pk'), ('taare zameen par', 'a story about taare zameen par')])"
      ]
     },
     "execution_count": 21,
     "metadata": {},
     "output_type": "execute_result"
    }
   ],
   "source": [
    "movies.items()"
   ]
  },
  {
   "cell_type": "code",
   "execution_count": 22,
   "metadata": {},
   "outputs": [
    {
     "data": {
      "text/plain": [
       "dict_keys(['3 idiots', 'lunchbox', 'dangal', 'pk', 'taare zameen par'])"
      ]
     },
     "execution_count": 22,
     "metadata": {},
     "output_type": "execute_result"
    }
   ],
   "source": [
    "movies.keys()"
   ]
  },
  {
   "cell_type": "code",
   "execution_count": 27,
   "metadata": {},
   "outputs": [
    {
     "data": {
      "text/plain": [
       "dict_values(['a story about 3 idiot frnds', 'a story about lunchbox', 'a story about dangal', 'a story about pk', 'a story about taare zameen par'])"
      ]
     },
     "execution_count": 27,
     "metadata": {},
     "output_type": "execute_result"
    }
   ],
   "source": [
    "movies.values()"
   ]
  },
  {
   "cell_type": "code",
   "execution_count": 25,
   "metadata": {},
   "outputs": [
    {
     "name": "stdout",
     "output_type": "stream",
     "text": [
      "3 idiots              a story about 3 idiot frnds\n",
      "lunchbox              a story about lunchbox\n",
      "dangal                a story about dangal\n",
      "pk                    a story about pk\n",
      "taare zameen par      a story about taare zameen par\n"
     ]
    }
   ],
   "source": [
    "for k,v in movies.items():\n",
    "    print(f'{k:20}  {v}')"
   ]
  },
  {
   "cell_type": "code",
   "execution_count": 26,
   "metadata": {},
   "outputs": [
    {
     "name": "stdout",
     "output_type": "stream",
     "text": [
      "3 idiots a story about 3 idiot frnds\n",
      "lunchbox a story about lunchbox\n",
      "dangal a story about dangal\n",
      "pk a story about pk\n",
      "taare zameen par a story about taare zameen par\n"
     ]
    }
   ],
   "source": [
    "for k,v in movies.items():\n",
    "    print(k,v)"
   ]
  },
  {
   "cell_type": "code",
   "execution_count": 29,
   "metadata": {},
   "outputs": [
    {
     "data": {
      "text/plain": [
       "True"
      ]
     },
     "execution_count": 29,
     "metadata": {},
     "output_type": "execute_result"
    }
   ],
   "source": [
    "isinstance(report['class10'], dict)# verify if the object is a data type"
   ]
  },
  {
   "cell_type": "code",
   "execution_count": 34,
   "metadata": {},
   "outputs": [
    {
     "name": "stdout",
     "output_type": "stream",
     "text": [
      "class10\n",
      "-> rohan\n",
      "  -> english = 90\n",
      "  -> maths = 95\n",
      "  -> physics = 85\n",
      "  -> computer = 89\n",
      "-> mohit\n",
      "  -> english = 89\n",
      "  -> physics = 86\n",
      "  -> computer = 95\n",
      "  -> maths = 96\n",
      "-> aman\n",
      "  -> english = 40\n",
      "  -> physics = 52\n",
      "  -> computer = 65\n",
      "  -> maths = 40\n",
      "-> shubham\n",
      "  -> english = 20\n",
      "  -> physics = 58\n",
      "  -> computer = 25\n",
      "  -> maths = 35\n",
      "-> satyam\n",
      "  -> english = 83\n",
      "  -> physics = 88\n",
      "  -> computer = 97\n",
      "  -> maths = 91\n",
      "-> kartik\n",
      "  -> english = 10\n",
      "  -> physics = 5\n",
      "  -> computer = 22\n",
      "  -> maths = 26\n"
     ]
    }
   ],
   "source": [
    "for cls, students in report.items():\n",
    "    print(cls)\n",
    "    if isinstance(students, dict):\n",
    "        for name, subjects in students.items():\n",
    "            print('->',name)\n",
    "            if isinstance(students, dict):\n",
    "                for subject, marks in subjects.items():\n",
    "                    print('  ->',subject,'=', marks)"
   ]
  },
  {
   "cell_type": "code",
   "execution_count": 35,
   "metadata": {},
   "outputs": [
    {
     "name": "stdout",
     "output_type": "stream",
     "text": [
      "class10\n",
      "-> rohan\n",
      "  total-> 359\n",
      "-> mohit\n",
      "  total-> 366\n",
      "-> aman\n",
      "  total-> 197\n",
      "-> shubham\n",
      "  total-> 138\n",
      "-> satyam\n",
      "  total-> 359\n",
      "-> kartik\n",
      "  total-> 63\n"
     ]
    }
   ],
   "source": [
    "for cls, students in report.items():\n",
    "    print(cls)\n",
    "    if isinstance(students, dict):\n",
    "        for name, subjects in students.items():\n",
    "            print('->',name)\n",
    "            if isinstance(students, dict):\n",
    "                total=0\n",
    "                for subject, marks in subjects.items():\n",
    "                    total += marks\n",
    "                print('  total->',total)\n",
    "                "
   ]
  },
  {
   "cell_type": "code",
   "execution_count": 38,
   "metadata": {},
   "outputs": [
    {
     "name": "stdout",
     "output_type": "stream",
     "text": [
      "class10\n",
      "-> rohan\n",
      "  total-> 89\n",
      "-> mohit\n",
      "  total-> 91\n",
      "-> aman\n",
      "  total-> 49\n",
      "-> shubham\n",
      "  total-> 34\n",
      "-> satyam\n",
      "  total-> 89\n",
      "-> kartik\n",
      "  total-> 15\n"
     ]
    }
   ],
   "source": [
    "for cls, students in report.items():\n",
    "    print(cls)\n",
    "    if isinstance(students, dict):\n",
    "        for name, subjects in students.items():\n",
    "            print('->',name)\n",
    "            if isinstance(students, dict):\n",
    "                total=0\n",
    "                for subject, marks in subjects.items():\n",
    "                    total += marks\n",
    "                print('  total->',total//4)\n",
    "                "
   ]
  },
  {
   "cell_type": "code",
   "execution_count": 39,
   "metadata": {},
   "outputs": [
    {
     "name": "stdout",
     "output_type": "stream",
     "text": [
      "class10\n",
      "-> rohan\n",
      "  avg-> 89\n",
      "-> mohit\n",
      "  avg-> 91\n",
      "-> aman\n",
      "  avg-> 49\n",
      "-> shubham\n",
      "  avg-> 34\n",
      "-> satyam\n",
      "  avg-> 89\n",
      "-> kartik\n",
      "  avg-> 15\n"
     ]
    }
   ],
   "source": [
    "for cls, students in report.items():\n",
    "    print(cls)\n",
    "    if isinstance(students, dict):\n",
    "        for name, subjects in students.items():\n",
    "            print('->',name)\n",
    "            if isinstance(subjects, dict):\n",
    "                total = sum(subjects.values())\n",
    "                print('  avg->',total//4)"
   ]
  },
  {
   "cell_type": "code",
   "execution_count": 44,
   "metadata": {},
   "outputs": [
    {
     "name": "stdout",
     "output_type": "stream",
     "text": [
      "class10\n",
      "-> rohan\n",
      "  max->, sub,mm\n",
      "  max->, sub,mm\n",
      "  max->, sub,mm\n",
      "  max->, sub,mm\n",
      "-> mohit\n",
      "  max->, sub,mm\n",
      "  max->, sub,mm\n",
      "  max->, sub,mm\n",
      "  max->, sub,mm\n",
      "-> aman\n",
      "  max->, sub,mm\n",
      "  max->, sub,mm\n",
      "  max->, sub,mm\n",
      "  max->, sub,mm\n",
      "-> shubham\n",
      "  max->, sub,mm\n",
      "  max->, sub,mm\n",
      "  max->, sub,mm\n",
      "  max->, sub,mm\n",
      "-> satyam\n",
      "  max->, sub,mm\n",
      "  max->, sub,mm\n",
      "  max->, sub,mm\n",
      "  max->, sub,mm\n",
      "-> kartik\n",
      "  max->, sub,mm\n",
      "  max->, sub,mm\n",
      "  max->, sub,mm\n",
      "  max->, sub,mm\n"
     ]
    }
   ],
   "source": [
    "for cls, students in report.items():\n",
    "    print(cls)\n",
    "    if isinstance(students, dict):\n",
    "        for name, subjects in students.items():\n",
    "            print('->',name)\n",
    "            if isinstance(subjects,dict):\n",
    "                mm = None\n",
    "                sub = None\n",
    "                for subject, marks in subjects.items():\n",
    "                    if mm is  None or mm < marks:\n",
    "                        mm = marks\n",
    "                        sub = subject\n",
    "                    print('  max->, sub,mm')"
   ]
  },
  {
   "cell_type": "code",
   "execution_count": null,
   "metadata": {},
   "outputs": [],
   "source": []
  },
  {
   "cell_type": "code",
   "execution_count": null,
   "metadata": {},
   "outputs": [],
   "source": []
  }
 ],
 "metadata": {
  "kernelspec": {
   "display_name": "base",
   "language": "python",
   "name": "python3"
  },
  "language_info": {
   "codemirror_mode": {
    "name": "ipython",
    "version": 3
   },
   "file_extension": ".py",
   "mimetype": "text/x-python",
   "name": "python",
   "nbconvert_exporter": "python",
   "pygments_lexer": "ipython3",
   "version": "3.10.10"
  },
  "orig_nbformat": 4
 },
 "nbformat": 4,
 "nbformat_minor": 2
}
